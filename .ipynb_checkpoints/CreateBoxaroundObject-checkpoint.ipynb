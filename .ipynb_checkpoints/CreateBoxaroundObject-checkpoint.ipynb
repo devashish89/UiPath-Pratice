{
 "cells": [
  {
   "cell_type": "code",
   "execution_count": 2,
   "metadata": {},
   "outputs": [
    {
     "name": "stdout",
     "output_type": "stream",
     "text": [
      "%%%\n"
     ]
    },
    {
     "data": {
      "text/plain": [
       "True"
      ]
     },
     "execution_count": 2,
     "metadata": {},
     "output_type": "execute_result"
    }
   ],
   "source": [
    "# Python program to explain cv2.rectangle() method\n",
    "import matplotlib\n",
    "%matplotlib inline\n",
    "# importing cv2\n",
    "import cv2\n",
    "#[300.19, 157.28, 162.88, 67.53]\n",
    "# path\n",
    "path = r'car-parking1.jpg'\n",
    "\n",
    "# Reading an image in default mode\n",
    "image = cv2.imread(path)\n",
    "\n",
    "# Window name in which image is displayed\n",
    "window_name = 'Image'\n",
    "\n",
    "# Start coordinate, here (5, 5)\n",
    "# represents the top left corner of rectangle\n",
    "start_point = (67, 157)\n",
    "\n",
    "# Ending coordinate, here (220, 220)\n",
    "# represents the bottom right corner of rectangle\n",
    "end_point = (162, 300)\n",
    "\n",
    "# Blue color in BGR\n",
    "color = (255, 0, 0)\n",
    "\n",
    "# Line thickness of 2 px\n",
    "thickness = 2\n",
    "\n",
    "# Using cv2.rectangle() method\n",
    "# Draw a rectangle with blue line borders of thickness of 2 px\n",
    "image = cv2.rectangle(image, start_point, end_point, color, thickness)\n",
    "\n",
    "# Displaying the image\n",
    "cv2.imshow(window_name, image)\n",
    "print(\"%%%\")\n",
    "cv2.imwrite('image.jpg',image)"
   ]
  },
  {
   "cell_type": "code",
   "execution_count": null,
   "metadata": {},
   "outputs": [],
   "source": []
  }
 ],
 "metadata": {
  "kernelspec": {
   "display_name": "Python 3",
   "language": "python",
   "name": "python3"
  },
  "language_info": {
   "codemirror_mode": {
    "name": "ipython",
    "version": 3
   },
   "file_extension": ".py",
   "mimetype": "text/x-python",
   "name": "python",
   "nbconvert_exporter": "python",
   "pygments_lexer": "ipython3",
   "version": "3.8.3"
  }
 },
 "nbformat": 4,
 "nbformat_minor": 4
}
