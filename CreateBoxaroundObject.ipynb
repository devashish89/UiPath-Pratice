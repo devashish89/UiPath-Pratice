{
 "cells": [
  {
   "cell_type": "code",
   "execution_count": 1,
   "metadata": {},
   "outputs": [
    {
     "name": "stdout",
     "output_type": "stream",
     "text": [
      "300.19 157.28 162.88 67.53\n"
     ]
    },
    {
     "data": {
      "text/plain": [
       "True"
      ]
     },
     "execution_count": 1,
     "metadata": {},
     "output_type": "execute_result"
    }
   ],
   "source": [
    "# Python program to explain cv2.rectangle() method\n",
    "import matplotlib\n",
    "%matplotlib inline\n",
    "# importing cv2\n",
    "import cv2\n",
    "\n",
    "# path\n",
    "path = r'car-parking1.jpg'\n",
    "\n",
    "# Reading an image in default mode\n",
    "image = cv2.imread(path)\n",
    "\n",
    "# Window name in which image is displayed\n",
    "window_name = 'Image'\n",
    "\n",
    "\n",
    "# Using cv2.rectangle() method\n",
    "# Draw a rectangle with blue line borders of thickness of 2 px\n",
    "# image = cv2.rectangle(image, start_point, end_point, color, thickness)\n",
    "x,y,w,h = (300.19, 157.28, 162.88, 67.53)\n",
    "print(x,y,w,h)\n",
    "img1=cv2.rectangle(image, (int(x), int(y)), (int(x+w), int(y+h)), (0, 255, 0), 2)\n",
    "\n",
    "\n",
    "cv2.imwrite('image.jpg',img1)"
   ]
  },
  {
   "cell_type": "code",
   "execution_count": null,
   "metadata": {},
   "outputs": [],
   "source": []
  },
  {
   "cell_type": "code",
   "execution_count": null,
   "metadata": {},
   "outputs": [],
   "source": []
  }
 ],
 "metadata": {
  "kernelspec": {
   "display_name": "Python 3",
   "language": "python",
   "name": "python3"
  },
  "language_info": {
   "codemirror_mode": {
    "name": "ipython",
    "version": 3
   },
   "file_extension": ".py",
   "mimetype": "text/x-python",
   "name": "python",
   "nbconvert_exporter": "python",
   "pygments_lexer": "ipython3",
   "version": "3.8.3"
  }
 },
 "nbformat": 4,
 "nbformat_minor": 4
}
